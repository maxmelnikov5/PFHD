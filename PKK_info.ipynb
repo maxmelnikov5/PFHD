{
  "nbformat": 4,
  "nbformat_minor": 0,
  "metadata": {
    "colab": {
      "name": "PKK_info.ipynb",
      "provenance": [],
      "collapsed_sections": [],
      "toc_visible": true
    },
    "kernelspec": {
      "name": "python3",
      "display_name": "Python 3"
    }
  },
  "cells": [
    {
      "cell_type": "markdown",
      "metadata": {
        "id": "jI5EWR4fi2Uy"
      },
      "source": [
        "# !! Сервис отдаёт устаревшие сведения о кадастровой цене !!\n",
        "\n",
        "Скрипт длоя получения данных из публичной кадастровой арты Росреестра.\n",
        "\n",
        "Процеес получения сведений: загрузить файл с перечнем кадастровых номеров, запустиить первые два блок кода, забрать файл \"out.xlsx\"\n",
        "\n",
        "Как оформить исходные данные:\n",
        "Список кадастровых номеров должен быть в файле **in.csv**, который нужно положить файлы на левой панели.\n",
        "Первая строка должна содержать две латинские буквы **cn**\n",
        "Т.е.файл выглядит примерно вот так:\n",
        "```\n",
        "cn\n",
        "26:34:80112:128\n",
        "26:34:80112:127\n",
        "```\n",
        "\n",
        "\n"
      ]
    },
    {
      "cell_type": "code",
      "metadata": {
        "id": "x3Pc4McXjG1I"
      },
      "source": [
        "# Блок 1 - запустить первым\n",
        "### Query to PKK for OKS\n",
        "\n",
        "import urllib.request\n",
        "import json\n",
        "import csv\n",
        "import time\n",
        "import pandas as pd\n",
        "\n",
        "#%% Functions\n",
        "\n",
        "#Чтение набора участков в кадастровом квартале\n",
        "def CadDistrQuery(distr, lim):\n",
        "    jsn = urllib.request.urlopen(\"https://pkk.rosreestr.ru/api/features/1?sqo=\"+ distr + \"&sqot=3&limit=\" + str(lim)).read()\n",
        "    parsed_string = json.loads(jsn)\n",
        "    lplotlist = parsed_string['features']\n",
        "    return lplotlist\n",
        "\n",
        "# #Поиск ОКС в границах квартала\n",
        "# def OksQueryOld(quart):\n",
        "#     jsn = urllib.request.urlopen(\"https://pkk.rosreestr.ru/api/features/5?sqo=\"+ quart + \"&sqot=2&\").read()\n",
        "#     parsed_string = json.loads(jsn)\n",
        "#     lplotlist = parsed_string['features']\n",
        "#     return lplotlist\n",
        "\n",
        "#Получение сведений об объекте\n",
        "def OKSQuery(oksid):\n",
        "    url = 'http://rosreestr.ru/api/online/fir_object/' #урл запроса\n",
        "    jsn = urllib.request.urlopen(url + oksid).read() #get server responce\n",
        "    parsed_string = json.loads(jsn) #parse json to dictionary\n",
        "    #Define type\n",
        "    if parsed_string['parcelData']['oksFlag'] == 1:\n",
        "      #filter dictionary\n",
        "      returndict = {\n",
        "      'Type' : 'ОКС',\n",
        "      'ID': parsed_string['objectData']['id'],\n",
        "      'objName' : parsed_string['objectData']['objectName'],\n",
        "      'subtown' : parsed_string['objectData']['objectAddress']['locality'],\n",
        "      'address' : parsed_string['objectData']['objectAddress']['mergedAddress'],\n",
        "      'IDparc': parsed_string['parcelData']['id'],\n",
        "      'area' : float(parsed_string['parcelData']['areaValue']),\n",
        "      'areatype' : parsed_string['parcelData']['areaType'],\n",
        "      'areaunit' : parsed_string['parcelData']['areaUnit'],\n",
        "      'cost' : float(parsed_string['parcelData']['cadCost']),\n",
        "      'buildtype' : parsed_string['parcelData']['oksType'],\n",
        "      'year' : parsed_string['parcelData']['oksYearBuilt'],\n",
        "      'floors' : parsed_string['parcelData']['oksFloors'],\n",
        "      'isRemoved' : parsed_string['objectData']['removed']\n",
        "      }\n",
        "    else:   \n",
        "      returndict = {\n",
        "      'Type' : 'Земельный участок',\n",
        "      'ID': parsed_string['objectData']['id'],\n",
        "      # 'objName' : parsed_string['objectData']['objectName'],\n",
        "      'subtown' : parsed_string['objectData']['objectAddress']['locality'],\n",
        "      'address' : parsed_string['objectData']['objectAddress']['mergedAddress'],\n",
        "      # 'IDparc': parsed_string['parcelData']['id'],\n",
        "      'area' : float(parsed_string['parcelData']['areaValue']),\n",
        "      'areatype' : parsed_string['parcelData']['areaType'],\n",
        "      'areaunit' : parsed_string['parcelData']['areaUnit'],\n",
        "      'cost' : float(parsed_string['parcelData']['cadCost']),\n",
        "      'buildtype' : parsed_string['parcelData']['oksType'],\n",
        "      'year' : parsed_string['parcelData']['oksYearBuilt'],\n",
        "      # 'floors' : parsed_string['parcelData']['oksFloors'],\n",
        "      'isRemoved' : parsed_string['objectData']['removed'],\n",
        "      'catID' : parsed_string['parcelData']['categoryType'],\n",
        "      'catName' : parsed_string['parcelData']['categoryTypeValue'],\n",
        "      'vriCode': parsed_string['parcelData']['utilCode'],\n",
        "      'vriName' : parsed_string['parcelData']['utilByDoc'],\n",
        "      'vriDescr' : parsed_string['parcelData']['utilCodeDesc']\n",
        "      }\n",
        "    return returndict\n",
        "    \n",
        "def CleanCN(cnum): #function to convert cadnums to ID (without leading zeroes)\n",
        "  cnum = cnum.strip().replace(' ','')\n",
        "  ls = cnum.split(':')\n",
        "  cnum_clear = ls[0]+':'+ls[1]+':'+ls[2].lstrip('0')+':'+ls[3].lstrip('0')\n",
        "  return cnum_clear"
      ],
      "execution_count": null,
      "outputs": []
    },
    {
      "cell_type": "code",
      "metadata": {
        "id": "j4oH797S-_oS",
        "outputId": "1a5ac078-8b46-4083-d558-1f20f07aa87b",
        "colab": {
          "base_uri": "https://localhost:8080/",
          "height": 35
        }
      },
      "source": [
        "#Блок 2 - запустить после Блока 1\n",
        "#Get data from in.csv (first row must be cn) list of cadnumbers and export to out.excel \n",
        "#!!!File will be RE_WRITED!!!!\n",
        "\n",
        "cnimport = pd.read_csv('in.csv') #read input file\n",
        "output = pd.DataFrame()\n",
        "for i in cnimport.cn:\n",
        "  s2 = CleanCN(i)\n",
        "  dat = OKSQuery(s2)\n",
        "  output = output.append(dat, ignore_index=True)\n",
        "  time.sleep(1)\n",
        "  output.to_excel('out.xlsx')  \n",
        "print('Заберите файл out.xlsx в блоке слева')"
      ],
      "execution_count": null,
      "outputs": [
        {
          "output_type": "stream",
          "text": [
            "Заберите файл out.xlsx в блоке слева\n"
          ],
          "name": "stdout"
        }
      ]
    },
    {
      "cell_type": "markdown",
      "metadata": {
        "id": "9WHHcEQBIPn3"
      },
      "source": [
        "Блок для получения данных об одном (или нескольких, через запятую) кадастровом номере\n"
      ]
    },
    {
      "cell_type": "code",
      "metadata": {
        "id": "_9bOulqpm5iz",
        "outputId": "6b9e4578-1a0d-426d-8c8c-0e90684267f4",
        "colab": {
          "base_uri": "https://localhost:8080/",
          "height": 116
        }
      },
      "source": [
        "######Блок 3 - запустить после Блока 1!\n",
        "#ввод нескольких кадномеров через запятую (появится окно ввода)\n",
        "multi_cn = input('Введите кадастровый номер/номера')\n",
        "mcnlist = multi_cn.split(',')\n",
        "mDf = pd.DataFrame()\n",
        "for n in enumerate(mcnlist):\n",
        "  ic = CleanCN(n[1])\n",
        "  try:\n",
        "    mDf = mDf.append([OKSQuery(ic)], ignore_index=True)\n",
        "  except:\n",
        "    print('Номер',n[1],\"получить не удалось\")\n",
        "  else:\n",
        "    print (n[0]+1,'из',len(mcnlist),'загружено')\n",
        "  time.sleep(1)\n",
        "mDf\n"
      ],
      "execution_count": null,
      "outputs": [
        {
          "output_type": "stream",
          "text": [
            "Введите кадастровый номер/номера26:34:010101:171\n",
            "1 из 1 загружено\n"
          ],
          "name": "stdout"
        },
        {
          "output_type": "execute_result",
          "data": {
            "text/html": [
              "<div>\n",
              "<style scoped>\n",
              "    .dataframe tbody tr th:only-of-type {\n",
              "        vertical-align: middle;\n",
              "    }\n",
              "\n",
              "    .dataframe tbody tr th {\n",
              "        vertical-align: top;\n",
              "    }\n",
              "\n",
              "    .dataframe thead th {\n",
              "        text-align: right;\n",
              "    }\n",
              "</style>\n",
              "<table border=\"1\" class=\"dataframe\">\n",
              "  <thead>\n",
              "    <tr style=\"text-align: right;\">\n",
              "      <th></th>\n",
              "      <th>Type</th>\n",
              "      <th>ID</th>\n",
              "      <th>objName</th>\n",
              "      <th>subtown</th>\n",
              "      <th>address</th>\n",
              "      <th>IDparc</th>\n",
              "      <th>area</th>\n",
              "      <th>areatype</th>\n",
              "      <th>areaunit</th>\n",
              "      <th>cost</th>\n",
              "      <th>buildtype</th>\n",
              "      <th>year</th>\n",
              "      <th>floors</th>\n",
              "      <th>isRemoved</th>\n",
              "    </tr>\n",
              "  </thead>\n",
              "  <tbody>\n",
              "    <tr>\n",
              "      <th>0</th>\n",
              "      <td>ОКС</td>\n",
              "      <td>26:34:10101:171</td>\n",
              "      <td>Жилой дом</td>\n",
              "      <td>None</td>\n",
              "      <td>г Кисловодск, ул Тюленева, д. 3</td>\n",
              "      <td>26:34:10101:171</td>\n",
              "      <td>29.8</td>\n",
              "      <td>008</td>\n",
              "      <td>055</td>\n",
              "      <td>1552233.43</td>\n",
              "      <td>building</td>\n",
              "      <td>None</td>\n",
              "      <td>1</td>\n",
              "      <td>0</td>\n",
              "    </tr>\n",
              "  </tbody>\n",
              "</table>\n",
              "</div>"
            ],
            "text/plain": [
              "  Type               ID    objName subtown  ... buildtype  year  floors isRemoved\n",
              "0  ОКС  26:34:10101:171  Жилой дом    None  ...  building  None       1         0\n",
              "\n",
              "[1 rows x 14 columns]"
            ]
          },
          "metadata": {
            "tags": []
          },
          "execution_count": 3
        }
      ]
    },
    {
      "cell_type": "code",
      "metadata": {
        "id": "u-KjEWPXqdnt",
        "outputId": "76910f2a-8e23-46f8-95d6-aa06a1fad282",
        "colab": {
          "base_uri": "https://localhost:8080/",
          "height": 35
        }
      },
      "source": [
        "#Блок 4 - экспорт участков в Excel - запустить после Блока 3\n",
        "mDf.to_excel('manual_out.xlsx')\n",
        "print(\"Заберите файл manual_out.xlsx в блоке слева\")"
      ],
      "execution_count": null,
      "outputs": [
        {
          "output_type": "stream",
          "text": [
            "Заберите файл manual_out.xlsx в блоке слева\n"
          ],
          "name": "stdout"
        }
      ]
    },
    {
      "cell_type": "markdown",
      "metadata": {
        "id": "LqV-svw8GAkp"
      },
      "source": [
        "**Ниже - тестовый код, не вияет на функиональность, его не нужно запускать**"
      ]
    },
    {
      "cell_type": "code",
      "metadata": {
        "id": "WTtZFBsKruXU",
        "outputId": "6323fa01-b307-48fe-ff32-e3740ab06e95",
        "colab": {
          "base_uri": "https://localhost:8080/",
          "height": 388
        }
      },
      "source": [
        "######Блок 3 - запустить после Блока 1!\n",
        "#ввод нескольких кадномеров через запятую (появится окно ввода)\n",
        "multi_cn = input()\n",
        "mcnlist = multi_cn.split(',')\n",
        "mDf = pd.DataFrame()\n",
        "for n in enumerate(mcnlist):\n",
        "  ic = CleanCN(n[1])\n",
        "  mDf = mDf.append([OKSQuery(ic)], ignore_index=True)\n",
        "  print (n[0]+1,'из',len(mcnlist),'загружено')\n",
        "  time.sleep(1)\n",
        "mDf"
      ],
      "execution_count": null,
      "outputs": [
        {
          "output_type": "stream",
          "text": [
            "multi_cn = input() mcnlist = multi_cn.split(',') mDf = pd.DataFrame() for n in enumerate(mcnlist):   ic = CleanCN(n[1])   mDf = mDf.append([OKSQuery(ic)], ignore_index=True)   print (n[0]+1,'из',len(mcnlist),'загружено')   time.sleep(1) mDf\n"
          ],
          "name": "stdout"
        },
        {
          "output_type": "error",
          "ename": "IndexError",
          "evalue": "ignored",
          "traceback": [
            "\u001b[0;31m---------------------------------------------------------------------------\u001b[0m",
            "\u001b[0;31mIndexError\u001b[0m                                Traceback (most recent call last)",
            "\u001b[0;32m<ipython-input-118-d89d5af75b39>\u001b[0m in \u001b[0;36m<module>\u001b[0;34m()\u001b[0m\n\u001b[1;32m      3\u001b[0m \u001b[0mmDf\u001b[0m \u001b[0;34m=\u001b[0m \u001b[0mpd\u001b[0m\u001b[0;34m.\u001b[0m\u001b[0mDataFrame\u001b[0m\u001b[0;34m(\u001b[0m\u001b[0;34m)\u001b[0m\u001b[0;34m\u001b[0m\u001b[0;34m\u001b[0m\u001b[0m\n\u001b[1;32m      4\u001b[0m \u001b[0;32mfor\u001b[0m \u001b[0mn\u001b[0m \u001b[0;32min\u001b[0m \u001b[0menumerate\u001b[0m\u001b[0;34m(\u001b[0m\u001b[0mmcnlist\u001b[0m\u001b[0;34m)\u001b[0m\u001b[0;34m:\u001b[0m\u001b[0;34m\u001b[0m\u001b[0;34m\u001b[0m\u001b[0m\n\u001b[0;32m----> 5\u001b[0;31m   \u001b[0mic\u001b[0m \u001b[0;34m=\u001b[0m \u001b[0mCleanCN\u001b[0m\u001b[0;34m(\u001b[0m\u001b[0mn\u001b[0m\u001b[0;34m[\u001b[0m\u001b[0;36m1\u001b[0m\u001b[0;34m]\u001b[0m\u001b[0;34m)\u001b[0m\u001b[0;34m\u001b[0m\u001b[0;34m\u001b[0m\u001b[0m\n\u001b[0m\u001b[1;32m      6\u001b[0m   \u001b[0mmDf\u001b[0m \u001b[0;34m=\u001b[0m \u001b[0mmDf\u001b[0m\u001b[0;34m.\u001b[0m\u001b[0mappend\u001b[0m\u001b[0;34m(\u001b[0m\u001b[0;34m[\u001b[0m\u001b[0mOKSQuery\u001b[0m\u001b[0;34m(\u001b[0m\u001b[0mic\u001b[0m\u001b[0;34m)\u001b[0m\u001b[0;34m]\u001b[0m\u001b[0;34m,\u001b[0m \u001b[0mignore_index\u001b[0m\u001b[0;34m=\u001b[0m\u001b[0;32mTrue\u001b[0m\u001b[0;34m)\u001b[0m\u001b[0;34m\u001b[0m\u001b[0;34m\u001b[0m\u001b[0m\n\u001b[1;32m      7\u001b[0m   \u001b[0mprint\u001b[0m \u001b[0;34m(\u001b[0m\u001b[0mn\u001b[0m\u001b[0;34m[\u001b[0m\u001b[0;36m0\u001b[0m\u001b[0;34m]\u001b[0m\u001b[0;34m+\u001b[0m\u001b[0;36m1\u001b[0m\u001b[0;34m,\u001b[0m\u001b[0;34m'из'\u001b[0m\u001b[0;34m,\u001b[0m\u001b[0mlen\u001b[0m\u001b[0;34m(\u001b[0m\u001b[0mmcnlist\u001b[0m\u001b[0;34m)\u001b[0m\u001b[0;34m,\u001b[0m\u001b[0;34m'загружено'\u001b[0m\u001b[0;34m)\u001b[0m\u001b[0;34m\u001b[0m\u001b[0;34m\u001b[0m\u001b[0m\n",
            "\u001b[0;32m<ipython-input-104-a3870b16f5b1>\u001b[0m in \u001b[0;36mCleanCN\u001b[0;34m(cnum)\u001b[0m\n\u001b[1;32m     73\u001b[0m   \u001b[0mcnum\u001b[0m \u001b[0;34m=\u001b[0m \u001b[0mcnum\u001b[0m\u001b[0;34m.\u001b[0m\u001b[0mstrip\u001b[0m\u001b[0;34m(\u001b[0m\u001b[0;34m)\u001b[0m\u001b[0;34m\u001b[0m\u001b[0;34m\u001b[0m\u001b[0m\n\u001b[1;32m     74\u001b[0m   \u001b[0mls\u001b[0m \u001b[0;34m=\u001b[0m \u001b[0mcnum\u001b[0m\u001b[0;34m.\u001b[0m\u001b[0msplit\u001b[0m\u001b[0;34m(\u001b[0m\u001b[0;34m':'\u001b[0m\u001b[0;34m)\u001b[0m\u001b[0;34m\u001b[0m\u001b[0;34m\u001b[0m\u001b[0m\n\u001b[0;32m---> 75\u001b[0;31m   \u001b[0mcnum_clear\u001b[0m \u001b[0;34m=\u001b[0m \u001b[0mls\u001b[0m\u001b[0;34m[\u001b[0m\u001b[0;36m0\u001b[0m\u001b[0;34m]\u001b[0m\u001b[0;34m+\u001b[0m\u001b[0;34m':'\u001b[0m\u001b[0;34m+\u001b[0m\u001b[0mls\u001b[0m\u001b[0;34m[\u001b[0m\u001b[0;36m1\u001b[0m\u001b[0;34m]\u001b[0m\u001b[0;34m+\u001b[0m\u001b[0;34m':'\u001b[0m\u001b[0;34m+\u001b[0m\u001b[0mls\u001b[0m\u001b[0;34m[\u001b[0m\u001b[0;36m2\u001b[0m\u001b[0;34m]\u001b[0m\u001b[0;34m.\u001b[0m\u001b[0mlstrip\u001b[0m\u001b[0;34m(\u001b[0m\u001b[0;34m'0'\u001b[0m\u001b[0;34m)\u001b[0m\u001b[0;34m+\u001b[0m\u001b[0;34m':'\u001b[0m\u001b[0;34m+\u001b[0m\u001b[0mls\u001b[0m\u001b[0;34m[\u001b[0m\u001b[0;36m3\u001b[0m\u001b[0;34m]\u001b[0m\u001b[0;34m.\u001b[0m\u001b[0mlstrip\u001b[0m\u001b[0;34m(\u001b[0m\u001b[0;34m'0'\u001b[0m\u001b[0;34m)\u001b[0m\u001b[0;34m\u001b[0m\u001b[0;34m\u001b[0m\u001b[0m\n\u001b[0m\u001b[1;32m     76\u001b[0m   \u001b[0;32mreturn\u001b[0m \u001b[0mcnum_clear\u001b[0m\u001b[0;34m\u001b[0m\u001b[0;34m\u001b[0m\u001b[0m\n",
            "\u001b[0;31mIndexError\u001b[0m: list index out of range"
          ]
        }
      ]
    },
    {
      "cell_type": "code",
      "metadata": {
        "id": "E9lIVVwYIQPl",
        "outputId": "0cef82c9-0237-45e7-b85d-820c88e3f08d",
        "colab": {
          "base_uri": "https://localhost:8080/",
          "height": 149
        }
      },
      "source": [
        "single_cn = CleanCN(input())\n",
        "sDf = pd.DataFrame([OKSQuery(single_cn)])\n",
        "sDf\n"
      ],
      "execution_count": null,
      "outputs": [
        {
          "output_type": "stream",
          "text": [
            "26:34:80112:127\n"
          ],
          "name": "stdout"
        },
        {
          "output_type": "execute_result",
          "data": {
            "text/html": [
              "<div>\n",
              "<style scoped>\n",
              "    .dataframe tbody tr th:only-of-type {\n",
              "        vertical-align: middle;\n",
              "    }\n",
              "\n",
              "    .dataframe tbody tr th {\n",
              "        vertical-align: top;\n",
              "    }\n",
              "\n",
              "    .dataframe thead th {\n",
              "        text-align: right;\n",
              "    }\n",
              "</style>\n",
              "<table border=\"1\" class=\"dataframe\">\n",
              "  <thead>\n",
              "    <tr style=\"text-align: right;\">\n",
              "      <th></th>\n",
              "      <th>Type</th>\n",
              "      <th>ID</th>\n",
              "      <th>subtown</th>\n",
              "      <th>address</th>\n",
              "      <th>area</th>\n",
              "      <th>areatype</th>\n",
              "      <th>areaunit</th>\n",
              "      <th>cost</th>\n",
              "      <th>buildtype</th>\n",
              "      <th>year</th>\n",
              "      <th>isRemoved</th>\n",
              "      <th>catID</th>\n",
              "      <th>catName</th>\n",
              "      <th>vriCode</th>\n",
              "      <th>vriName</th>\n",
              "      <th>vriDescr</th>\n",
              "    </tr>\n",
              "  </thead>\n",
              "  <tbody>\n",
              "    <tr>\n",
              "      <th>0</th>\n",
              "      <td>Земельный участок</td>\n",
              "      <td>26:34:80112:127</td>\n",
              "      <td>None</td>\n",
              "      <td>г Кисловодск, ул Одесская, 40</td>\n",
              "      <td>589.0</td>\n",
              "      <td>009</td>\n",
              "      <td>055</td>\n",
              "      <td>1458841.09</td>\n",
              "      <td>None</td>\n",
              "      <td>None</td>\n",
              "      <td>0</td>\n",
              "      <td>003002000000</td>\n",
              "      <td>Земли населенных пунктов</td>\n",
              "      <td>142001000000</td>\n",
              "      <td>Под жилую застройку Индивидуальную</td>\n",
              "      <td>Для объектов жилой застройки</td>\n",
              "    </tr>\n",
              "  </tbody>\n",
              "</table>\n",
              "</div>"
            ],
            "text/plain": [
              "                Type  ...                      vriDescr\n",
              "0  Земельный участок  ...  Для объектов жилой застройки\n",
              "\n",
              "[1 rows x 16 columns]"
            ]
          },
          "metadata": {
            "tags": []
          },
          "execution_count": 95
        }
      ]
    },
    {
      "cell_type": "code",
      "metadata": {
        "id": "TFvVGzpIiKAD",
        "outputId": "cc8f2c09-bac8-48ba-e8e1-87121b0c4ec1",
        "colab": {
          "base_uri": "https://localhost:8080/",
          "height": 32
        }
      },
      "source": [
        "mDf"
      ],
      "execution_count": null,
      "outputs": [
        {
          "output_type": "execute_result",
          "data": {
            "text/html": [
              "<div>\n",
              "<style scoped>\n",
              "    .dataframe tbody tr th:only-of-type {\n",
              "        vertical-align: middle;\n",
              "    }\n",
              "\n",
              "    .dataframe tbody tr th {\n",
              "        vertical-align: top;\n",
              "    }\n",
              "\n",
              "    .dataframe thead th {\n",
              "        text-align: right;\n",
              "    }\n",
              "</style>\n",
              "<table border=\"1\" class=\"dataframe\">\n",
              "  <thead>\n",
              "    <tr style=\"text-align: right;\">\n",
              "      <th></th>\n",
              "    </tr>\n",
              "  </thead>\n",
              "  <tbody>\n",
              "  </tbody>\n",
              "</table>\n",
              "</div>"
            ],
            "text/plain": [
              "Empty DataFrame\n",
              "Columns: []\n",
              "Index: []"
            ]
          },
          "metadata": {
            "tags": []
          },
          "execution_count": 109
        }
      ]
    },
    {
      "cell_type": "code",
      "metadata": {
        "id": "hgWtMZ6k3AUU"
      },
      "source": [
        "##test getting all plots\n",
        "\n",
        "test2 = CadDistrQuery('26:34','')"
      ],
      "execution_count": null,
      "outputs": []
    },
    {
      "cell_type": "code",
      "metadata": {
        "id": "eXFCDMxR6YNW"
      },
      "source": [
        "#Get data from MANUAL list of cadnumbers and export to out_man.excel \n",
        "#!!!File will be RE_WRITED!!!!\n",
        "\n",
        "cnlist = ['26:34:80112:2648','26:34:80112:127']\n",
        "output = pd.DataFrame()\n",
        "for i in cnlist:\n",
        "  dat = OKSQuery(i)\n",
        "  output = output.append(dat, ignore_index=True)\n",
        "output.to_excel('out_man.xlsx')"
      ],
      "execution_count": null,
      "outputs": []
    },
    {
      "cell_type": "code",
      "metadata": {
        "id": "iHuffvdXEn02",
        "outputId": "250da32b-67c7-4aba-a988-490169765760",
        "colab": {
          "base_uri": "https://localhost:8080/",
          "height": 53
        }
      },
      "source": [
        "a = input()\n",
        "b = CleanCN(a)\n",
        "print(b)"
      ],
      "execution_count": null,
      "outputs": [
        {
          "output_type": "stream",
          "text": [
            "26:34:0080112:0127 \n",
            "26:34:80112:127\n"
          ],
          "name": "stdout"
        }
      ]
    },
    {
      "cell_type": "code",
      "metadata": {
        "id": "RvxL1RCWIK9Q",
        "outputId": "fb57ccfe-bb7b-415c-d448-03d0d07f1e37",
        "colab": {
          "base_uri": "https://localhost:8080/",
          "height": 35
        }
      },
      "source": [
        "aaa = str('1:  2:00: 34')\n",
        "aaa.strip(' ')"
      ],
      "execution_count": null,
      "outputs": [
        {
          "output_type": "execute_result",
          "data": {
            "text/plain": [
              "'1:  2:00: 34'"
            ]
          },
          "metadata": {
            "tags": []
          },
          "execution_count": 131
        }
      ]
    },
    {
      "cell_type": "code",
      "metadata": {
        "id": "0Lme5PQyufCm",
        "outputId": "51a9ae5f-813f-4590-de87-40b22e4c2eaf",
        "colab": {
          "base_uri": "https://localhost:8080/",
          "height": 35
        }
      },
      "source": [
        "CleanCN('1:  2:00: 34')"
      ],
      "execution_count": null,
      "outputs": [
        {
          "output_type": "execute_result",
          "data": {
            "text/plain": [
              "'1:2::34'"
            ]
          },
          "metadata": {
            "tags": []
          },
          "execution_count": 136
        }
      ]
    },
    {
      "cell_type": "code",
      "metadata": {
        "id": "hvvJYVhPu5qn",
        "outputId": "8e1074d5-5459-40d9-b201-8e186f9ff15a",
        "colab": {
          "base_uri": "https://localhost:8080/",
          "height": 71
        }
      },
      "source": [
        "def CleanCN2(cnum): #function to convert cadnums to ID (without leading zeroes)\n",
        "  cnum = cnum.strip().replace(' ','')\n",
        "  ls = cnum.split(':')\n",
        "  cnum_clear = \"\"\n",
        "  for i in ls:\n",
        "    if len(i) > 1:\n",
        "      print(len(i))\n",
        "      cnum_clear += i.lstrip('0')\n",
        "    else:\n",
        "      cnum_clear += i\n",
        "    cnum_clear += ':'\n",
        "  # cnum_clear = ls[0]+':'+ls[1]+':'+ls[2].lstrip('0')+':'+ls[3].lstrip('0')\n",
        "  return cnum_clear[:-1]\n",
        "CleanCN2('1:  2:00: 34')"
      ],
      "execution_count": null,
      "outputs": [
        {
          "output_type": "stream",
          "text": [
            "2\n",
            "2\n"
          ],
          "name": "stdout"
        },
        {
          "output_type": "execute_result",
          "data": {
            "text/plain": [
              "'1:2::34'"
            ]
          },
          "metadata": {
            "tags": []
          },
          "execution_count": 144
        }
      ]
    },
    {
      "cell_type": "code",
      "metadata": {
        "id": "0gWjES5Ye7a0"
      },
      "source": [
        "#Поиск ОКС в границах квартала\n",
        "def OksQueryOld(quart):\n",
        "    jsn = urllib.request.urlopen(\"https://pkk.rosreestr.ru/api/features/5?sqo=\"+ quart + \"&sqot=2&\").read()\n",
        "    parsed_string = json.loads(jsn)\n",
        "    lplotlist = parsed_string['features']\n",
        "    return lplotlist"
      ],
      "execution_count": null,
      "outputs": []
    },
    {
      "cell_type": "code",
      "metadata": {
        "id": "R997gLaSfFws"
      },
      "source": [
        "okslist = OksQueryOld('29:1:190136')"
      ],
      "execution_count": null,
      "outputs": []
    },
    {
      "cell_type": "code",
      "metadata": {
        "id": "OaZbhkZSg4Wt",
        "outputId": "f64793f8-7b7b-40ed-d351-e23d8c58c6dc",
        "colab": {
          "base_uri": "https://localhost:8080/",
          "height": 269
        }
      },
      "source": [
        "for i in okslist:\n",
        "  print (i['attrs']['id'])"
      ],
      "execution_count": null,
      "outputs": [
        {
          "output_type": "stream",
          "text": [
            "29:1:190136:94\n",
            "29:1:190136:98\n",
            "29:1:190136:114\n",
            "29:1:190136:251\n",
            "29:1:190136:517\n",
            "29:1:190136:518\n",
            "29:1:0:4236\n",
            "29:1:0:3905\n",
            "29:1:0:3482\n",
            "29:1:0:3489\n",
            "29:1:0:5943\n",
            "29:1:190136:505\n",
            "29:1:190136:239\n",
            "29:1:190136:243\n"
          ],
          "name": "stdout"
        }
      ]
    }
  ]
}